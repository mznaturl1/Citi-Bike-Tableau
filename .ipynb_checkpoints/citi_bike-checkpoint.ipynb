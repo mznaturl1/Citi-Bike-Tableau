{
 "cells": [
  {
   "cell_type": "code",
   "execution_count": 1,
   "id": "3bf11295",
   "metadata": {},
   "outputs": [],
   "source": [
    "import pandas as pd\n",
    "from functools import reduce"
   ]
  },
  {
   "cell_type": "code",
   "execution_count": 2,
   "id": "f0f40f38",
   "metadata": {},
   "outputs": [],
   "source": [
    "df1 = pd.read_csv(\"/Users/msmic/Downloads/Citi-Bike-Tableau/Resources/JC-202210-citibike-tripdata.csv\", sep=',')\n",
    "df2 = pd.read_csv(\"/Users/msmic/Downloads/Citi-Bike-Tableau/Resources/JC-202211-citibike-tripdata.csv\", sep=',')\n",
    "df3 = pd.read_csv(\"/Users/msmic/Downloads/Citi-Bike-Tableau/Resources/JC-202212-citibike-tripdata.csv\", sep=',')\n",
    "df4 = pd.read_csv(\"/Users/msmic/Downloads/Citi-Bike-Tableau/Resources/JC-202301-citibike-tripdata.csv\", sep=',')\n",
    "df5 = pd.read_csv(\"/Users/msmic/Downloads/Citi-Bike-Tableau/Resources/JC-202302-citibike-tripdata.csv\", sep=',')\n",
    "df6 = pd.read_csv(\"/Users/msmic/Downloads/Citi-Bike-Tableau/Resources/JC-202303-citibike-tripdata.csv\", sep=',')"
   ]
  },
  {
   "cell_type": "code",
   "execution_count": 3,
   "id": "3f833889",
   "metadata": {},
   "outputs": [],
   "source": [
    "data_frames = pd.concat([df1,df2,df3,df4,df5,df6])"
   ]
  },
  {
   "cell_type": "code",
   "execution_count": 7,
   "id": "7426b2b8",
   "metadata": {},
   "outputs": [],
   "source": [
    "pd.DataFrame.to_csv(data_frames, '/Users/msmic/Downloads/Citi-Bike-Tableau/Resources/citi_bike_merge.csv')"
   ]
  },
  {
   "cell_type": "code",
   "execution_count": null,
   "id": "70b22812",
   "metadata": {},
   "outputs": [],
   "source": []
  }
 ],
 "metadata": {
  "kernelspec": {
   "display_name": "Python 3 (ipykernel)",
   "language": "python",
   "name": "python3"
  },
  "language_info": {
   "codemirror_mode": {
    "name": "ipython",
    "version": 3
   },
   "file_extension": ".py",
   "mimetype": "text/x-python",
   "name": "python",
   "nbconvert_exporter": "python",
   "pygments_lexer": "ipython3",
   "version": "3.7.15"
  }
 },
 "nbformat": 4,
 "nbformat_minor": 5
}
